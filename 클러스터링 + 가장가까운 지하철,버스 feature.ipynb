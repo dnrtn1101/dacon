{
 "cells": [
  {
   "cell_type": "code",
   "execution_count": 1,
   "metadata": {},
   "outputs": [],
   "source": [
    "import pandas as pd\n",
    "import numpy as np\n",
    "import seaborn as sns\n",
    "from math import sin, cos, sqrt, atan2, radians\n",
    "import matplotlib.pyplot as plt\n",
    "from sklearn.cluster import KMeans\n",
    "from lightgbm import LGBMRegressor\n",
    "from sklearn.metrics import mean_squared_error"
   ]
  },
  {
   "cell_type": "code",
   "execution_count": 2,
   "metadata": {},
   "outputs": [],
   "source": [
    "test=pd.read_csv('data/test.csv')\n",
    "train=pd.read_csv('data/train.csv')\n",
    "subway=pd.read_csv('data/Subways.csv')\n",
    "school=pd.read_csv('data/Schools.csv')"
   ]
  },
  {
   "cell_type": "code",
   "execution_count": 3,
   "metadata": {
    "scrolled": true
   },
   "outputs": [],
   "source": [
    "train= train.drop_duplicates(train.columns.difference(['key']))"
   ]
  },
  {
   "cell_type": "code",
   "execution_count": 4,
   "metadata": {},
   "outputs": [],
   "source": [
    "full=pd.concat([train,test],axis=0).reset_index(drop=True)\n",
    "y=train['transaction_real_price']\n",
    "full = full.fillna(-999)\n",
    "full['log_target'] = np.log1p(full['transaction_real_price'])"
   ]
  },
  {
   "cell_type": "code",
   "execution_count": 5,
   "metadata": {},
   "outputs": [],
   "source": [
    "address_by_law = full['address_by_law'].astype('str')\n",
    "\n",
    "address_by_law_1 = []\n",
    "address_by_law_2 = []\n",
    "address_by_law_3 = []\n",
    "address_by_law_4 = []\n",
    "\n",
    "for item in address_by_law:\n",
    "    address_by_law_1.append(int(item[0:2]))\n",
    "    address_by_law_2.append(int(item[2:5]))\n",
    "    address_by_law_3.append(int(item[5:8]))\n",
    "    address_by_law_4.append(int(item[8:10]))\n",
    "full['address_by_law_1'] = address_by_law_1\n",
    "full['address_by_law_2'] = address_by_law_2\n",
    "full['address_by_law_3'] = address_by_law_3\n",
    "full['address_by_law_4'] = address_by_law_4\n",
    "full=full.drop('address_by_law',axis=1)"
   ]
  },
  {
   "cell_type": "code",
   "execution_count": 6,
   "metadata": {},
   "outputs": [],
   "source": [
    "# new_date = full[\"transaction_date\"].replace({'1~10':'01', '11~20':'10', '21~28':'20', '21~29':'20', '21~30':'20',  '21~31':'20' })\n",
    "# new_date = full[\"transaction_year_month\"].astype('str') + new_date\n",
    "# new_date = pd.to_datetime(new_date, format = '%Y%m%d')\n",
    "# new_date = (new_date - pd.to_datetime(\"2006-01-01\")).dt.days\n",
    "# full['date'] = new_date"
   ]
  },
  {
   "cell_type": "code",
   "execution_count": 7,
   "metadata": {},
   "outputs": [],
   "source": [
    "full['transaction_year'] = full['transaction_year_month'].astype(str).map(lambda x: int(x[0:4]))\n",
    "full['transaction_month'] = full['transaction_year_month'].astype(str).map(lambda x: int(x[4:6]))\n",
    "full=full.drop('transaction_year_month',axis=1)"
   ]
  },
  {
   "cell_type": "code",
   "execution_count": 8,
   "metadata": {},
   "outputs": [],
   "source": [
    "# full['transaction_date_label_encoding'] = full['transaction_date'].replace({'1~10':0,'11~20':1,'21~31':2,'21~30':2,'21~29':2,'21~28':2})\n",
    "# label1, unique1=pd.factorize(full['heat_type'])\n",
    "# full['heat_type_label_encoding']=label1\n",
    "# label2, unique2=pd.factorize(full['heat_fuel'])\n",
    "# full['heat_fuel_label_encoding']=label2\n",
    "# label3, unique3 = pd.factorize(full['front_door_structure'])\n",
    "# full['front_door_structure_label_encoding']=label3\n",
    "# # 위에꺼는 label_encoding이라는 거로 feature를 하나 더 만들어준거다.\n",
    "\n",
    "full['transaction_date'] = full['transaction_date'].replace({'1~10':0,'11~20':1,'21~31':2,'21~30':2,'21~29':2,'21~28':2})\n",
    "label1, unique1=pd.factorize(full['heat_type'])\n",
    "full['heat_type']=label1\n",
    "label2, unique2=pd.factorize(full['heat_fuel'])\n",
    "full['heat_fuel']=label2\n",
    "label3, unique3 = pd.factorize(full['front_door_structure'])\n",
    "full['front_door_structure']=label3\n",
    "# 이건 그대로 넣은것"
   ]
  },
  {
   "cell_type": "code",
   "execution_count": 9,
   "metadata": {},
   "outputs": [],
   "source": [
    "# 이건 위에 encoding할때 새로운 col으로 넣고 categorical data column을 지우기 위해 하는 것\n",
    "# dtype_df = full.dtypes\n",
    "# str_idx = dtype_df[dtype_df.values == 'object'].index.tolist()\n",
    "# full = full.drop(str_idx, axis = 1)"
   ]
  },
  {
   "cell_type": "code",
   "execution_count": 10,
   "metadata": {
    "scrolled": true
   },
   "outputs": [
    {
     "data": {
      "text/html": [
       "<div>\n",
       "<style scoped>\n",
       "    .dataframe tbody tr th:only-of-type {\n",
       "        vertical-align: middle;\n",
       "    }\n",
       "\n",
       "    .dataframe tbody tr th {\n",
       "        vertical-align: top;\n",
       "    }\n",
       "\n",
       "    .dataframe thead th {\n",
       "        text-align: right;\n",
       "    }\n",
       "</style>\n",
       "<table border=\"1\" class=\"dataframe\">\n",
       "  <thead>\n",
       "    <tr style=\"text-align: right;\">\n",
       "      <th></th>\n",
       "      <th>station_id</th>\n",
       "      <th>latitude</th>\n",
       "      <th>longitude</th>\n",
       "      <th>subway_line</th>\n",
       "      <th>address_by_law</th>\n",
       "    </tr>\n",
       "  </thead>\n",
       "  <tbody>\n",
       "    <tr>\n",
       "      <th>0</th>\n",
       "      <td>1</td>\n",
       "      <td>37.555729</td>\n",
       "      <td>126.972145</td>\n",
       "      <td>1,4,KJ,AP</td>\n",
       "      <td>1.114012e+09</td>\n",
       "    </tr>\n",
       "    <tr>\n",
       "      <th>1</th>\n",
       "      <td>2</td>\n",
       "      <td>37.565624</td>\n",
       "      <td>126.976936</td>\n",
       "      <td>1,2</td>\n",
       "      <td>1.114017e+09</td>\n",
       "    </tr>\n",
       "    <tr>\n",
       "      <th>2</th>\n",
       "      <td>3</td>\n",
       "      <td>37.570169</td>\n",
       "      <td>126.983099</td>\n",
       "      <td>1</td>\n",
       "      <td>1.111013e+09</td>\n",
       "    </tr>\n",
       "    <tr>\n",
       "      <th>3</th>\n",
       "      <td>4</td>\n",
       "      <td>37.571570</td>\n",
       "      <td>126.991895</td>\n",
       "      <td>1,3,5</td>\n",
       "      <td>1.111016e+09</td>\n",
       "    </tr>\n",
       "    <tr>\n",
       "      <th>4</th>\n",
       "      <td>5</td>\n",
       "      <td>37.570988</td>\n",
       "      <td>127.001921</td>\n",
       "      <td>1</td>\n",
       "      <td>1.111016e+09</td>\n",
       "    </tr>\n",
       "  </tbody>\n",
       "</table>\n",
       "</div>"
      ],
      "text/plain": [
       "   station_id   latitude   longitude subway_line  address_by_law\n",
       "0           1  37.555729  126.972145   1,4,KJ,AP    1.114012e+09\n",
       "1           2  37.565624  126.976936         1,2    1.114017e+09\n",
       "2           3  37.570169  126.983099           1    1.111013e+09\n",
       "3           4  37.571570  126.991895       1,3,5    1.111016e+09\n",
       "4           5  37.570988  127.001921           1    1.111016e+09"
      ]
     },
     "metadata": {},
     "output_type": "display_data"
    },
    {
     "data": {
      "text/html": [
       "<div>\n",
       "<style scoped>\n",
       "    .dataframe tbody tr th:only-of-type {\n",
       "        vertical-align: middle;\n",
       "    }\n",
       "\n",
       "    .dataframe tbody tr th {\n",
       "        vertical-align: top;\n",
       "    }\n",
       "\n",
       "    .dataframe thead th {\n",
       "        text-align: right;\n",
       "    }\n",
       "</style>\n",
       "<table border=\"1\" class=\"dataframe\">\n",
       "  <thead>\n",
       "    <tr style=\"text-align: right;\">\n",
       "      <th></th>\n",
       "      <th>school_code</th>\n",
       "      <th>latitude</th>\n",
       "      <th>longitude</th>\n",
       "      <th>school_class</th>\n",
       "      <th>operation_type</th>\n",
       "      <th>highschool_type</th>\n",
       "      <th>gender</th>\n",
       "      <th>foundation_date</th>\n",
       "      <th>address_by_law</th>\n",
       "    </tr>\n",
       "  </thead>\n",
       "  <tbody>\n",
       "    <tr>\n",
       "      <th>0</th>\n",
       "      <td>S000003511</td>\n",
       "      <td>37.490880</td>\n",
       "      <td>127.015082</td>\n",
       "      <td>elementary</td>\n",
       "      <td>national</td>\n",
       "      <td>NaN</td>\n",
       "      <td>both</td>\n",
       "      <td>1953.1.31</td>\n",
       "      <td>1165010800</td>\n",
       "    </tr>\n",
       "    <tr>\n",
       "      <th>1</th>\n",
       "      <td>S000003563</td>\n",
       "      <td>37.577782</td>\n",
       "      <td>127.002915</td>\n",
       "      <td>elementary</td>\n",
       "      <td>national</td>\n",
       "      <td>NaN</td>\n",
       "      <td>both</td>\n",
       "      <td>1946.8.22</td>\n",
       "      <td>1111016800</td>\n",
       "    </tr>\n",
       "    <tr>\n",
       "      <th>2</th>\n",
       "      <td>S010000737</td>\n",
       "      <td>37.481366</td>\n",
       "      <td>127.059055</td>\n",
       "      <td>elementary</td>\n",
       "      <td>public</td>\n",
       "      <td>NaN</td>\n",
       "      <td>both</td>\n",
       "      <td>1982.9.20</td>\n",
       "      <td>1168010300</td>\n",
       "    </tr>\n",
       "    <tr>\n",
       "      <th>3</th>\n",
       "      <td>S010000738</td>\n",
       "      <td>37.485744</td>\n",
       "      <td>127.058002</td>\n",
       "      <td>elementary</td>\n",
       "      <td>public</td>\n",
       "      <td>NaN</td>\n",
       "      <td>both</td>\n",
       "      <td>1987.11.17</td>\n",
       "      <td>1168010300</td>\n",
       "    </tr>\n",
       "    <tr>\n",
       "      <th>4</th>\n",
       "      <td>S010000741</td>\n",
       "      <td>37.480805</td>\n",
       "      <td>127.051891</td>\n",
       "      <td>elementary</td>\n",
       "      <td>public</td>\n",
       "      <td>NaN</td>\n",
       "      <td>both</td>\n",
       "      <td>1983.11.30</td>\n",
       "      <td>1168010300</td>\n",
       "    </tr>\n",
       "  </tbody>\n",
       "</table>\n",
       "</div>"
      ],
      "text/plain": [
       "  school_code   latitude   longitude school_class operation_type  \\\n",
       "0  S000003511  37.490880  127.015082   elementary       national   \n",
       "1  S000003563  37.577782  127.002915   elementary       national   \n",
       "2  S010000737  37.481366  127.059055   elementary         public   \n",
       "3  S010000738  37.485744  127.058002   elementary         public   \n",
       "4  S010000741  37.480805  127.051891   elementary         public   \n",
       "\n",
       "  highschool_type gender foundation_date  address_by_law  \n",
       "0             NaN   both       1953.1.31      1165010800  \n",
       "1             NaN   both       1946.8.22      1111016800  \n",
       "2             NaN   both       1982.9.20      1168010300  \n",
       "3             NaN   both      1987.11.17      1168010300  \n",
       "4             NaN   both      1983.11.30      1168010300  "
      ]
     },
     "metadata": {},
     "output_type": "display_data"
    }
   ],
   "source": [
    "display(subway.head())\n",
    "display(school.head())"
   ]
  },
  {
   "cell_type": "code",
   "execution_count": 11,
   "metadata": {},
   "outputs": [],
   "source": [
    "def earth(lat1,lat2,lon1,lon2):\n",
    "    R=6373.0\n",
    "    distance=[0]*len(lat2)\n",
    "    for i in range(len(lat2)):\n",
    "        dlon= lon2[i]- lon1\n",
    "        dlat= lat2[i]- lat1 \n",
    "        a = sin(dlat / 2)**2 + cos(lat1) * cos(lat2[i]) * sin(dlon / 2)**2 \n",
    "        c = 2 * atan2(sqrt(a), sqrt(1 - a)) \n",
    "        distance[i] = R * c \n",
    "    return distance"
   ]
  },
  {
   "cell_type": "code",
   "execution_count": 12,
   "metadata": {},
   "outputs": [],
   "source": [
    "X=full.drop_duplicates('apartment_id')\n",
    "X.reset_index()\n",
    "nearest_sub = [0]*X.shape[0]\n",
    "nearest_sub_line = [0]*X.shape[0]\n",
    "nearest_sch = [0]*X.shape[0]\n",
    "nearest_sch_class = [0]*X.shape[0]\n",
    "nearest_sch_type = [0]*X.shape[0]\n",
    "nearest_sch_gender = [0]*X.shape[0]\n",
    "nearest_sch_high = [0]*X.shape[0]\n",
    "nearest_sch_date = [0]*X.shape[0]\n",
    "\n",
    "for i in range(X.shape[0]):\n",
    "    subway['dis'] = earth(X.iloc[i]['latitude'],subway['latitude'],X.iloc[i]['longitude'],subway['longitude'])\n",
    "    min_dist = min(subway['dis'])\n",
    "    nearest_sub[i] = min_dist\n",
    "    nearest_sub_line[i] = subway[subway['dis']==min_dist]['subway_line'].values[0]\n",
    "    \n",
    "    school['dis'] = earth(X.iloc[i]['latitude'],school['latitude'],X.iloc[i]['longitude'],school['longitude'])\n",
    "    min_dist_sch = min(school['dis'])\n",
    "    nearest_sch[i] = min_dist_sch\n",
    "    nearest_sch_class[i] = school[school['dis']==min_dist_sch]['school_class'].values[0]\n",
    "    nearest_sch_type[i] = school[school['dis']==min_dist_sch]['operation_type'].values[0]\n",
    "    nearest_sch_gender[i] = school[school['dis']==min_dist_sch]['gender'].values[0]\n",
    "    nearest_sch_high[i] = school[school['dis']==min_dist_sch]['highschool_type'].values[0]\n",
    "    nearest_sch_date[i] = school[school['dis']==min_dist_sch]['foundation_date'].values[0]"
   ]
  },
  {
   "cell_type": "code",
   "execution_count": 13,
   "metadata": {},
   "outputs": [
    {
     "name": "stderr",
     "output_type": "stream",
     "text": [
      "C:\\ProgramData\\Anaconda3\\envs\\venv\\lib\\site-packages\\ipykernel_launcher.py:1: SettingWithCopyWarning: \n",
      "A value is trying to be set on a copy of a slice from a DataFrame.\n",
      "Try using .loc[row_indexer,col_indexer] = value instead\n",
      "\n",
      "See the caveats in the documentation: http://pandas.pydata.org/pandas-docs/stable/indexing.html#indexing-view-versus-copy\n",
      "  \"\"\"Entry point for launching an IPython kernel.\n",
      "C:\\ProgramData\\Anaconda3\\envs\\venv\\lib\\site-packages\\ipykernel_launcher.py:2: SettingWithCopyWarning: \n",
      "A value is trying to be set on a copy of a slice from a DataFrame.\n",
      "Try using .loc[row_indexer,col_indexer] = value instead\n",
      "\n",
      "See the caveats in the documentation: http://pandas.pydata.org/pandas-docs/stable/indexing.html#indexing-view-versus-copy\n",
      "  \n",
      "C:\\ProgramData\\Anaconda3\\envs\\venv\\lib\\site-packages\\ipykernel_launcher.py:3: SettingWithCopyWarning: \n",
      "A value is trying to be set on a copy of a slice from a DataFrame.\n",
      "Try using .loc[row_indexer,col_indexer] = value instead\n",
      "\n",
      "See the caveats in the documentation: http://pandas.pydata.org/pandas-docs/stable/indexing.html#indexing-view-versus-copy\n",
      "  This is separate from the ipykernel package so we can avoid doing imports until\n",
      "C:\\ProgramData\\Anaconda3\\envs\\venv\\lib\\site-packages\\ipykernel_launcher.py:4: SettingWithCopyWarning: \n",
      "A value is trying to be set on a copy of a slice from a DataFrame.\n",
      "Try using .loc[row_indexer,col_indexer] = value instead\n",
      "\n",
      "See the caveats in the documentation: http://pandas.pydata.org/pandas-docs/stable/indexing.html#indexing-view-versus-copy\n",
      "  after removing the cwd from sys.path.\n",
      "C:\\ProgramData\\Anaconda3\\envs\\venv\\lib\\site-packages\\ipykernel_launcher.py:5: SettingWithCopyWarning: \n",
      "A value is trying to be set on a copy of a slice from a DataFrame.\n",
      "Try using .loc[row_indexer,col_indexer] = value instead\n",
      "\n",
      "See the caveats in the documentation: http://pandas.pydata.org/pandas-docs/stable/indexing.html#indexing-view-versus-copy\n",
      "  \"\"\"\n",
      "C:\\ProgramData\\Anaconda3\\envs\\venv\\lib\\site-packages\\ipykernel_launcher.py:6: SettingWithCopyWarning: \n",
      "A value is trying to be set on a copy of a slice from a DataFrame.\n",
      "Try using .loc[row_indexer,col_indexer] = value instead\n",
      "\n",
      "See the caveats in the documentation: http://pandas.pydata.org/pandas-docs/stable/indexing.html#indexing-view-versus-copy\n",
      "  \n",
      "C:\\ProgramData\\Anaconda3\\envs\\venv\\lib\\site-packages\\ipykernel_launcher.py:7: SettingWithCopyWarning: \n",
      "A value is trying to be set on a copy of a slice from a DataFrame.\n",
      "Try using .loc[row_indexer,col_indexer] = value instead\n",
      "\n",
      "See the caveats in the documentation: http://pandas.pydata.org/pandas-docs/stable/indexing.html#indexing-view-versus-copy\n",
      "  import sys\n",
      "C:\\ProgramData\\Anaconda3\\envs\\venv\\lib\\site-packages\\ipykernel_launcher.py:8: SettingWithCopyWarning: \n",
      "A value is trying to be set on a copy of a slice from a DataFrame.\n",
      "Try using .loc[row_indexer,col_indexer] = value instead\n",
      "\n",
      "See the caveats in the documentation: http://pandas.pydata.org/pandas-docs/stable/indexing.html#indexing-view-versus-copy\n",
      "  \n"
     ]
    },
    {
     "data": {
      "text/html": [
       "<div>\n",
       "<style scoped>\n",
       "    .dataframe tbody tr th:only-of-type {\n",
       "        vertical-align: middle;\n",
       "    }\n",
       "\n",
       "    .dataframe tbody tr th {\n",
       "        vertical-align: top;\n",
       "    }\n",
       "\n",
       "    .dataframe thead th {\n",
       "        text-align: right;\n",
       "    }\n",
       "</style>\n",
       "<table border=\"1\" class=\"dataframe\">\n",
       "  <thead>\n",
       "    <tr style=\"text-align: right;\">\n",
       "      <th></th>\n",
       "      <th>key</th>\n",
       "      <th>apartment_id</th>\n",
       "      <th>city</th>\n",
       "      <th>transaction_date</th>\n",
       "      <th>year_of_completion</th>\n",
       "      <th>exclusive_use_area</th>\n",
       "      <th>floor</th>\n",
       "      <th>latitude</th>\n",
       "      <th>longitude</th>\n",
       "      <th>total_parking_capacity_in_site</th>\n",
       "      <th>...</th>\n",
       "      <th>transaction_year</th>\n",
       "      <th>transaction_month</th>\n",
       "      <th>nearest_sub</th>\n",
       "      <th>nearest_sub_line</th>\n",
       "      <th>nearest_sch</th>\n",
       "      <th>nearest_sch_class</th>\n",
       "      <th>nearest_sch_type</th>\n",
       "      <th>nearest_sch_gender</th>\n",
       "      <th>nearest_sch_high</th>\n",
       "      <th>nearest_sch_date</th>\n",
       "    </tr>\n",
       "  </thead>\n",
       "  <tbody>\n",
       "    <tr>\n",
       "      <th>0</th>\n",
       "      <td>0</td>\n",
       "      <td>5584</td>\n",
       "      <td>1</td>\n",
       "      <td>1</td>\n",
       "      <td>1999</td>\n",
       "      <td>47.43</td>\n",
       "      <td>6</td>\n",
       "      <td>37.585965</td>\n",
       "      <td>127.000231</td>\n",
       "      <td>163.0</td>\n",
       "      <td>...</td>\n",
       "      <td>2006</td>\n",
       "      <td>1</td>\n",
       "      <td>24.882336</td>\n",
       "      <td>4</td>\n",
       "      <td>14.901992</td>\n",
       "      <td>middle</td>\n",
       "      <td>private</td>\n",
       "      <td>male</td>\n",
       "      <td>NaN</td>\n",
       "      <td>1907.9.8</td>\n",
       "    </tr>\n",
       "    <tr>\n",
       "      <th>2</th>\n",
       "      <td>2</td>\n",
       "      <td>5059</td>\n",
       "      <td>1</td>\n",
       "      <td>1</td>\n",
       "      <td>1992</td>\n",
       "      <td>54.70</td>\n",
       "      <td>8</td>\n",
       "      <td>37.580511</td>\n",
       "      <td>127.014016</td>\n",
       "      <td>902.0</td>\n",
       "      <td>...</td>\n",
       "      <td>2006</td>\n",
       "      <td>1</td>\n",
       "      <td>8.067028</td>\n",
       "      <td>6</td>\n",
       "      <td>6.109126</td>\n",
       "      <td>elementary</td>\n",
       "      <td>public</td>\n",
       "      <td>both</td>\n",
       "      <td>NaN</td>\n",
       "      <td>1971.10.6</td>\n",
       "    </tr>\n",
       "    <tr>\n",
       "      <th>3</th>\n",
       "      <td>3</td>\n",
       "      <td>2816</td>\n",
       "      <td>1</td>\n",
       "      <td>1</td>\n",
       "      <td>1993</td>\n",
       "      <td>64.66</td>\n",
       "      <td>11</td>\n",
       "      <td>37.580324</td>\n",
       "      <td>127.011788</td>\n",
       "      <td>902.0</td>\n",
       "      <td>...</td>\n",
       "      <td>2006</td>\n",
       "      <td>1</td>\n",
       "      <td>21.581305</td>\n",
       "      <td>6</td>\n",
       "      <td>8.018905</td>\n",
       "      <td>high</td>\n",
       "      <td>private</td>\n",
       "      <td>female</td>\n",
       "      <td>specialized</td>\n",
       "      <td>1966.12.8</td>\n",
       "    </tr>\n",
       "    <tr>\n",
       "      <th>5</th>\n",
       "      <td>5</td>\n",
       "      <td>2815</td>\n",
       "      <td>1</td>\n",
       "      <td>1</td>\n",
       "      <td>2000</td>\n",
       "      <td>84.92</td>\n",
       "      <td>9</td>\n",
       "      <td>37.575381</td>\n",
       "      <td>126.960804</td>\n",
       "      <td>1365.0</td>\n",
       "      <td>...</td>\n",
       "      <td>2006</td>\n",
       "      <td>1</td>\n",
       "      <td>19.187394</td>\n",
       "      <td>3</td>\n",
       "      <td>8.679184</td>\n",
       "      <td>elementary</td>\n",
       "      <td>public</td>\n",
       "      <td>both</td>\n",
       "      <td>NaN</td>\n",
       "      <td>1957.9.28</td>\n",
       "    </tr>\n",
       "    <tr>\n",
       "      <th>7</th>\n",
       "      <td>7</td>\n",
       "      <td>9867</td>\n",
       "      <td>1</td>\n",
       "      <td>1</td>\n",
       "      <td>2005</td>\n",
       "      <td>84.76</td>\n",
       "      <td>10</td>\n",
       "      <td>37.559200</td>\n",
       "      <td>127.019503</td>\n",
       "      <td>652.0</td>\n",
       "      <td>...</td>\n",
       "      <td>2006</td>\n",
       "      <td>1</td>\n",
       "      <td>31.254636</td>\n",
       "      <td>5</td>\n",
       "      <td>7.314980</td>\n",
       "      <td>middle</td>\n",
       "      <td>public</td>\n",
       "      <td>female</td>\n",
       "      <td>NaN</td>\n",
       "      <td>1968.8.6</td>\n",
       "    </tr>\n",
       "  </tbody>\n",
       "</table>\n",
       "<p>5 rows × 38 columns</p>\n",
       "</div>"
      ],
      "text/plain": [
       "   key  apartment_id  city  transaction_date  year_of_completion  \\\n",
       "0    0          5584     1                 1                1999   \n",
       "2    2          5059     1                 1                1992   \n",
       "3    3          2816     1                 1                1993   \n",
       "5    5          2815     1                 1                2000   \n",
       "7    7          9867     1                 1                2005   \n",
       "\n",
       "   exclusive_use_area  floor   latitude   longitude  \\\n",
       "0               47.43      6  37.585965  127.000231   \n",
       "2               54.70      8  37.580511  127.014016   \n",
       "3               64.66     11  37.580324  127.011788   \n",
       "5               84.92      9  37.575381  126.960804   \n",
       "7               84.76     10  37.559200  127.019503   \n",
       "\n",
       "   total_parking_capacity_in_site        ...         transaction_year  \\\n",
       "0                           163.0        ...                     2006   \n",
       "2                           902.0        ...                     2006   \n",
       "3                           902.0        ...                     2006   \n",
       "5                          1365.0        ...                     2006   \n",
       "7                           652.0        ...                     2006   \n",
       "\n",
       "   transaction_month  nearest_sub  nearest_sub_line  nearest_sch  \\\n",
       "0                  1    24.882336                 4    14.901992   \n",
       "2                  1     8.067028                 6     6.109126   \n",
       "3                  1    21.581305                 6     8.018905   \n",
       "5                  1    19.187394                 3     8.679184   \n",
       "7                  1    31.254636                 5     7.314980   \n",
       "\n",
       "   nearest_sch_class  nearest_sch_type  nearest_sch_gender  nearest_sch_high  \\\n",
       "0             middle           private                male               NaN   \n",
       "2         elementary            public                both               NaN   \n",
       "3               high           private              female       specialized   \n",
       "5         elementary            public                both               NaN   \n",
       "7             middle            public              female               NaN   \n",
       "\n",
       "   nearest_sch_date  \n",
       "0          1907.9.8  \n",
       "2         1971.10.6  \n",
       "3         1966.12.8  \n",
       "5         1957.9.28  \n",
       "7          1968.8.6  \n",
       "\n",
       "[5 rows x 38 columns]"
      ]
     },
     "execution_count": 13,
     "metadata": {},
     "output_type": "execute_result"
    }
   ],
   "source": [
    "X['nearest_sub'] = nearest_sub\n",
    "X['nearest_sub_line'] = nearest_sub_line\n",
    "X['nearest_sch'] = nearest_sch\n",
    "X['nearest_sch_class'] = nearest_sch_class\n",
    "X['nearest_sch_type'] = nearest_sch_type\n",
    "X['nearest_sch_gender'] = nearest_sch_gender\n",
    "X['nearest_sch_high'] = nearest_sch_high\n",
    "X['nearest_sch_date'] = nearest_sch_date\n",
    "X.head()"
   ]
  },
  {
   "cell_type": "code",
   "execution_count": 14,
   "metadata": {},
   "outputs": [],
   "source": [
    "full=pd.merge(full,X[['apartment_id','nearest_sub','nearest_sub_line','nearest_sch','nearest_sch_class',\n",
    "                      'nearest_sch_type','nearest_sch_gender','nearest_sch_high','nearest_sch_date']],\n",
    "                      left_on='apartment_id',right_on='apartment_id',how='left')"
   ]
  },
  {
   "cell_type": "code",
   "execution_count": 15,
   "metadata": {
    "scrolled": false
   },
   "outputs": [],
   "source": [
    "label1, unique1=pd.factorize(full['nearest_sch_class'])\n",
    "full['nearest_sch_class']=label1\n",
    "label2, unique2=pd.factorize(full['nearest_sch_type'])\n",
    "full['nearest_sch_type']=label2\n",
    "label3, unique3=pd.factorize(full['nearest_sch_gender'])\n",
    "full['nearest_sch_gender']=label3\n",
    "label4, unique4=pd.factorize(full['nearest_sch_high'])\n",
    "full['nearest_sch_high']=label4"
   ]
  },
  {
   "cell_type": "code",
   "execution_count": 16,
   "metadata": {},
   "outputs": [],
   "source": [
    "full['nearest_sch_high']=full['nearest_sch_high'].replace({-1:-999})"
   ]
  },
  {
   "cell_type": "code",
   "execution_count": 17,
   "metadata": {},
   "outputs": [],
   "source": [
    "X=full.drop_duplicates('apartment_id')\n",
    "X_S=X[X['city']==1]\n",
    "X_B=X[X['city']==0]\n",
    "COOR_S=X_S[['apartment_id','latitude','longitude']]\n",
    "COOR_B=X_B[['apartment_id','latitude','longitude']]\n",
    "COOR_S.reset_index\n",
    "COOR_B.reset_index\n",
    "\n",
    "# Agg_S=AgglomerativeClustering(n_clusters=70, affinity='euclidean', linkage='ward').fit_predict(COOR_S[['latitude','longitude']])\n",
    "# Agg_B=AgglomerativeClustering(n_clusters=50, affinity='euclidean', linkage='ward').fit_predict(COOR_B[['latitude','longitude']])\n",
    "kmeans_S = KMeans(n_clusters=70, random_state=0).fit(COOR_S[['latitude','longitude']])\n",
    "kmeans_B = KMeans(n_clusters=50, random_state=0).fit(COOR_B[['latitude','longitude']])"
   ]
  },
  {
   "cell_type": "code",
   "execution_count": 18,
   "metadata": {
    "scrolled": true
   },
   "outputs": [
    {
     "name": "stderr",
     "output_type": "stream",
     "text": [
      "C:\\ProgramData\\Anaconda3\\envs\\venv\\lib\\site-packages\\ipykernel_launcher.py:4: SettingWithCopyWarning: \n",
      "A value is trying to be set on a copy of a slice from a DataFrame.\n",
      "Try using .loc[row_indexer,col_indexer] = value instead\n",
      "\n",
      "See the caveats in the documentation: http://pandas.pydata.org/pandas-docs/stable/indexing.html#indexing-view-versus-copy\n",
      "  after removing the cwd from sys.path.\n",
      "C:\\ProgramData\\Anaconda3\\envs\\venv\\lib\\site-packages\\ipykernel_launcher.py:5: SettingWithCopyWarning: \n",
      "A value is trying to be set on a copy of a slice from a DataFrame.\n",
      "Try using .loc[row_indexer,col_indexer] = value instead\n",
      "\n",
      "See the caveats in the documentation: http://pandas.pydata.org/pandas-docs/stable/indexing.html#indexing-view-versus-copy\n",
      "  \"\"\"\n"
     ]
    }
   ],
   "source": [
    "# COOR_S['cluster_N']=Agg_S\n",
    "# COOR_B['cluster_N']=Agg_B\n",
    "\n",
    "COOR_S['cluster_N']=kmeans_S.labels_\n",
    "COOR_B['cluster_N']=kmeans_B.labels_"
   ]
  },
  {
   "cell_type": "code",
   "execution_count": 19,
   "metadata": {},
   "outputs": [
    {
     "name": "stderr",
     "output_type": "stream",
     "text": [
      "C:\\ProgramData\\Anaconda3\\envs\\venv\\lib\\site-packages\\ipykernel_launcher.py:1: SettingWithCopyWarning: \n",
      "A value is trying to be set on a copy of a slice from a DataFrame.\n",
      "Try using .loc[row_indexer,col_indexer] = value instead\n",
      "\n",
      "See the caveats in the documentation: http://pandas.pydata.org/pandas-docs/stable/indexing.html#indexing-view-versus-copy\n",
      "  \"\"\"Entry point for launching an IPython kernel.\n"
     ]
    }
   ],
   "source": [
    "COOR_B['cluster_N']+=70\n",
    "COOR=pd.concat([COOR_S,COOR_B])\n",
    "full=pd.merge(full,COOR,left_on='apartment_id',right_on='apartment_id',how='left')\n",
    "full=full.drop(['latitude_y','longitude_y'],axis=1)"
   ]
  },
  {
   "cell_type": "code",
   "execution_count": 20,
   "metadata": {},
   "outputs": [],
   "source": [
    "full=full.drop(['nearest_sch_date','nearest_sub_line'],axis=1)"
   ]
  },
  {
   "cell_type": "code",
   "execution_count": 21,
   "metadata": {},
   "outputs": [
    {
     "name": "stdout",
     "output_type": "stream",
     "text": [
      "TRAIN shape :  (1551005, 37)\n",
      "VAL shape :  (3906, 37)\n",
      "TEST shape :  (3918, 37)\n"
     ]
    }
   ],
   "source": [
    "val_key = pd.read_csv(\"data/val_key.csv\")\n",
    "val_key = val_key[val_key['val_key'] > 0].val_key.tolist()\n",
    "\n",
    "train = full.loc[:train.shape[0] - 1,:]\n",
    "test = full.loc[train.shape[0]:,:].reset_index(drop = True)\n",
    "val = train[train['key'].isin(val_key)]\n",
    "train = train.drop(labels = val.index, axis = 0)\n",
    "\n",
    "print(\"TRAIN shape : \", train.shape)\n",
    "print(\"VAL shape : \", val.shape)\n",
    "print(\"TEST shape : \", test.shape)\n",
    "\n",
    "train.to_csv('data/x_train.csv', encoding = False, index = False)\n",
    "val.to_csv('data/x_val.csv', encoding = False, index = False)\n",
    "test.to_csv('data/x_test.csv', encoding = False, index = False)"
   ]
  },
  {
   "cell_type": "code",
   "execution_count": 22,
   "metadata": {},
   "outputs": [
    {
     "name": "stdout",
     "output_type": "stream",
     "text": [
      "train shape :  (835932, 35)\n",
      "val shape :  (3906, 35)\n",
      "full shape :  (839838, 35)\n"
     ]
    }
   ],
   "source": [
    "x_train = pd.read_csv('data/x_train.csv')\n",
    "x_val = pd.read_csv('data/x_val.csv')\n",
    "\n",
    "x_train = x_train[x_train['transaction_year'] > 2012]\n",
    "# x_train = x_train[x_train['date'] > 2555]\n",
    "\n",
    "y_train = x_train['log_target']\n",
    "y_val = x_val['log_target']\n",
    "\n",
    "x_train = x_train.drop(['transaction_real_price', 'log_target'], axis = 1)\n",
    "features = x_train.columns.tolist()\n",
    "x_train = x_train.values\n",
    "x_val = x_val.drop(['transaction_real_price', 'log_target'], axis = 1).values\n",
    "\n",
    "x_full = np.concatenate((x_train, x_val), axis = 0)\n",
    "y_full = np.concatenate((y_train, y_val))\n",
    "\n",
    "print(\"train shape : \", x_train.shape)\n",
    "print(\"val shape : \", x_val.shape)\n",
    "print(\"full shape : \", x_full.shape)"
   ]
  },
  {
   "cell_type": "code",
   "execution_count": 26,
   "metadata": {},
   "outputs": [],
   "source": [
    "model=LGBMRegressor(num_leaves=127,n_estimators=10000,min_child_weight=0.001,learning_rate=0.05)\n",
    "# model.fit(x_train,y_train)"
   ]
  },
  {
   "cell_type": "code",
   "execution_count": 28,
   "metadata": {},
   "outputs": [],
   "source": [
    "# model =CatBoostRegressor(iterations=2, depth=2, learning_rate=0.1)\n",
    "# model.fit(x_train,y_train)\n",
    "# pred_list=[]\n",
    "# for n_estimator in list:\n",
    "#     model=LGBMRegressor(n_estimators=n_estimator)\n",
    "#     model.fit(x_train,y_train)\n",
    "#     y_pred = model.predict(x_val)\n",
    "#     mse = mean_squared_error(np.expm1(y_val), np.expm1(y_pred))\n",
    "#     pred_list.append(np.sqrt(mse))\n",
    "# model = XGBRegressor(learning_rate=0.05,max_depth=6,n_estimators=500)\n",
    "# model.fit(x_train, y_train)\n",
    "# print(pred_list)\n",
    "# model.fit(x_train,y_train)"
   ]
  },
  {
   "cell_type": "code",
   "execution_count": 24,
   "metadata": {},
   "outputs": [
    {
     "data": {
      "text/plain": [
       "56074336.96561679"
      ]
     },
     "execution_count": 24,
     "metadata": {},
     "output_type": "execute_result"
    }
   ],
   "source": [
    "y_pred = model.predict(x_val)\n",
    "mse = mean_squared_error(np.expm1(y_val), np.expm1(y_pred))\n",
    "np.sqrt(mse)"
   ]
  },
  {
   "cell_type": "code",
   "execution_count": 25,
   "metadata": {},
   "outputs": [
    {
     "data": {
      "image/png": "[encoded data removed]",
      "text/plain": [
       "<Figure size 864x432 with 1 Axes>"
      ]
     },
     "metadata": {},
     "output_type": "display_data"
    },
    {
     "name": "stdout",
     "output_type": "stream",
     "text": [
      "[31515 11062   192  2204 10486 19499 12444 14952 14918  9351  9268  5553\n",
      "  6427  7253  1358   667  7122 15456 12454  1576   886  1419     2  6263\n",
      "  6882    97   106  5452 12532 11853  1439   726  1044   677  8865]\n"
     ]
    }
   ],
   "source": [
    "plt.figure(figsize = (12, 6))\n",
    "sns.barplot(x = features, y = model.feature_importances_)\n",
    "plt.xticks(rotation = 'vertical')\n",
    "plt.show()\n",
    "print(model.feature_importances_)"
   ]
  },
  {
   "cell_type": "code",
   "execution_count": 18,
   "metadata": {},
   "outputs": [
    {
     "data": {
      "text/plain": [
       "21491650.78895946"
      ]
     },
     "execution_count": 18,
     "metadata": {},
     "output_type": "execute_result"
    }
   ],
   "source": [
    "train_pred = model.predict(x_train)\n",
    "mse = mean_squared_error(np.expm1(y_train), np.expm1(train_pred))\n",
    "np.sqrt(mse)"
   ]
  },
  {
   "cell_type": "code",
   "execution_count": 27,
   "metadata": {},
   "outputs": [
    {
     "data": {
      "text/plain": [
       "LGBMRegressor(boosting_type='gbdt', class_weight=None, colsample_bytree=1.0,\n",
       "       importance_type='split', learning_rate=0.05, max_depth=-1,\n",
       "       min_child_samples=20, min_child_weight=0.001, min_split_gain=0.0,\n",
       "       n_estimators=10000, n_jobs=-1, num_leaves=127, objective=None,\n",
       "       random_state=None, reg_alpha=0.0, reg_lambda=0.0, silent=True,\n",
       "       subsample=1.0, subsample_for_bin=200000, subsample_freq=0)"
      ]
     },
     "execution_count": 27,
     "metadata": {},
     "output_type": "execute_result"
    }
   ],
   "source": [
    "model.fit(x_full, y_full)"
   ]
  },
  {
   "cell_type": "code",
   "execution_count": 28,
   "metadata": {},
   "outputs": [],
   "source": [
    "x_test = pd.read_csv('data/x_test.csv')\n",
    "sub = pd.read_csv('data/submission.csv')\n",
    "TRAIN = pd.read_csv('data/train.csv')\n",
    "same_instance = pd.read_csv('data/same_instance.csv')\n",
    "same_instance.columns = ['apartment_id', 'key']\n",
    "\n",
    "ret = []\n",
    "for i, row in same_instance.iterrows():\n",
    "    ret.append(TRAIN[TRAIN['key'] == row['key']]['transaction_real_price'].values[0])\n",
    "same_instance['transaction_real_price'] = ret\n",
    "\n",
    "sub['1st'] = pd.merge(left = x_test, right = same_instance[['apartment_id', 'transaction_real_price']], on = 'apartment_id', how = 'left')['transaction_real_price_y']\n",
    "\n",
    "x_test = x_test.drop(['transaction_real_price', 'log_target'], axis = 1).values\n",
    "test_pred = np.expm1(model.predict(x_test))\n",
    "sub['2nd'] = test_pred\n",
    "\n",
    "sub = sub.fillna(-1)\n",
    "ret = []\n",
    "for i, row in sub.iterrows():\n",
    "    if row['1st'] != -1:\n",
    "        ret.append(row['1st'])\n",
    "    else:\n",
    "        ret.append(row['2nd'])\n",
    "sub['transaction_real_price'] = ret\n",
    "\n",
    "sub = sub.drop(['1st', '2nd'], axis = 1)\n",
    "\n",
    "sub.to_csv(\"sub.csv\", encoding = False, index = False)"
   ]
  },
  {
   "cell_type": "code",
   "execution_count": null,
   "metadata": {},
   "outputs": [],
   "source": []
  }
 ],
 "metadata": {
  "kernelspec": {
   "display_name": "Python 3",
   "language": "python",
   "name": "python3"
  },
  "language_info": {
   "codemirror_mode": {
    "name": "ipython",
    "version": 3
   },
   "file_extension": ".py",
   "mimetype": "text/x-python",
   "name": "python",
   "nbconvert_exporter": "python",
   "pygments_lexer": "ipython3",
   "version": "3.6.5"
  }
 },
 "nbformat": 4,
 "nbformat_minor": 2
}
